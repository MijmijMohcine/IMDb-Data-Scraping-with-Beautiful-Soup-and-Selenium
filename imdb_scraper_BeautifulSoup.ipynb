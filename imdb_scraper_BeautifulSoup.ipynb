{
 "cells": [
  {
   "cell_type": "code",
   "execution_count": 1,
   "metadata": {},
   "outputs": [],
   "source": [
    "from bs4 import BeautifulSoup\n",
    "import requests\n",
    "import re\n",
    "import pandas as pd"
   ]
  },
  {
   "cell_type": "code",
   "execution_count": 2,
   "metadata": {},
   "outputs": [],
   "source": [
    "url = 'https://www.imdb.com/feature/genre/?ref_=nv_ch_gr'\n",
    "response = requests.get(url)\n",
    "soup = BeautifulSoup(response.text, \"html.parser\")\n",
    "ge = [i.get('title') for i in soup.find_all('img')]"
   ]
  },
  {
   "cell_type": "code",
   "execution_count": 3,
   "metadata": {},
   "outputs": [
    {
     "name": "stdout",
     "output_type": "stream",
     "text": [
      "50\n",
      "100\n",
      "150\n",
      "200\n",
      "250\n",
      "300\n",
      "350\n",
      "400\n",
      "450\n",
      "500\n",
      "550\n",
      "600\n"
     ]
    },
    {
     "ename": "NoSuchWindowException",
     "evalue": "Message: no such window: target window already closed\nfrom unknown error: web view not found\n  (Session info: chrome=112.0.5615.138)\nStacktrace:\nBacktrace:\n\tGetHandleVerifier [0x00B9DCE3+50899]\n\t(No symbol) [0x00B2E111]\n\t(No symbol) [0x00A35588]\n\t(No symbol) [0x00A1D333]\n\t(No symbol) [0x00A7F4DB]\n\t(No symbol) [0x00A8DB33]\n\t(No symbol) [0x00A7B6F6]\n\t(No symbol) [0x00A57708]\n\t(No symbol) [0x00A5886D]\n\tGetHandleVerifier [0x00E03EAE+2566302]\n\tGetHandleVerifier [0x00E392B1+2784417]\n\tGetHandleVerifier [0x00E3327C+2759788]\n\tGetHandleVerifier [0x00C35740+672048]\n\t(No symbol) [0x00B38872]\n\t(No symbol) [0x00B341C8]\n\t(No symbol) [0x00B342AB]\n\t(No symbol) [0x00B271B7]\n\tBaseThreadInitThunk [0x761B6B89+25]\n\tRtlGetFullPathName_UEx [0x77738F9F+1215]\n\tRtlGetFullPathName_UEx [0x77738F6D+1165]\n",
     "output_type": "error",
     "traceback": [
      "\u001b[1;31m---------------------------------------------------------------------------\u001b[0m",
      "\u001b[1;31mNoSuchWindowException\u001b[0m                     Traceback (most recent call last)",
      "Cell \u001b[1;32mIn[3], line 8\u001b[0m\n\u001b[0;32m      6\u001b[0m driver \u001b[39m=\u001b[39m webdriver\u001b[39m.\u001b[39mChrome()\n\u001b[0;32m      7\u001b[0m driver\u001b[39m.\u001b[39mget(url)\n\u001b[1;32m----> 8\u001b[0m driver\u001b[39m.\u001b[39;49mmaximize_window()\n\u001b[0;32m      9\u001b[0m driver\u001b[39m.\u001b[39mimplicitly_wait(\u001b[39m20\u001b[39m)\n\u001b[0;32m     10\u001b[0m action \u001b[39m=\u001b[39m driver\u001b[39m.\u001b[39mfind_element(By\u001b[39m.\u001b[39mXPATH, \u001b[39m'\u001b[39m\u001b[39m//img[@title=\u001b[39m\u001b[39m\"\u001b[39m\u001b[39m'\u001b[39m\u001b[39m+\u001b[39mgenre_p\u001b[39m+\u001b[39m\u001b[39m'\u001b[39m\u001b[39m\"\u001b[39m\u001b[39m]\u001b[39m\u001b[39m'\u001b[39m)\n",
      "File \u001b[1;32mc:\\Python\\Python310\\lib\\site-packages\\selenium\\webdriver\\remote\\webdriver.py:607\u001b[0m, in \u001b[0;36mWebDriver.maximize_window\u001b[1;34m(self)\u001b[0m\n\u001b[0;32m    603\u001b[0m \u001b[39m\u001b[39m\u001b[39m\"\"\"\u001b[39;00m\n\u001b[0;32m    604\u001b[0m \u001b[39mMaximizes the current window that webdriver is using\u001b[39;00m\n\u001b[0;32m    605\u001b[0m \u001b[39m\"\"\"\u001b[39;00m\n\u001b[0;32m    606\u001b[0m command \u001b[39m=\u001b[39m Command\u001b[39m.\u001b[39mW3C_MAXIMIZE_WINDOW\n\u001b[1;32m--> 607\u001b[0m \u001b[39mself\u001b[39;49m\u001b[39m.\u001b[39;49mexecute(command, \u001b[39mNone\u001b[39;49;00m)\n",
      "File \u001b[1;32mc:\\Python\\Python310\\lib\\site-packages\\selenium\\webdriver\\remote\\webdriver.py:444\u001b[0m, in \u001b[0;36mWebDriver.execute\u001b[1;34m(self, driver_command, params)\u001b[0m\n\u001b[0;32m    442\u001b[0m response \u001b[39m=\u001b[39m \u001b[39mself\u001b[39m\u001b[39m.\u001b[39mcommand_executor\u001b[39m.\u001b[39mexecute(driver_command, params)\n\u001b[0;32m    443\u001b[0m \u001b[39mif\u001b[39;00m response:\n\u001b[1;32m--> 444\u001b[0m     \u001b[39mself\u001b[39;49m\u001b[39m.\u001b[39;49merror_handler\u001b[39m.\u001b[39;49mcheck_response(response)\n\u001b[0;32m    445\u001b[0m     response[\u001b[39m\"\u001b[39m\u001b[39mvalue\u001b[39m\u001b[39m\"\u001b[39m] \u001b[39m=\u001b[39m \u001b[39mself\u001b[39m\u001b[39m.\u001b[39m_unwrap_value(response\u001b[39m.\u001b[39mget(\u001b[39m\"\u001b[39m\u001b[39mvalue\u001b[39m\u001b[39m\"\u001b[39m, \u001b[39mNone\u001b[39;00m))\n\u001b[0;32m    446\u001b[0m     \u001b[39mreturn\u001b[39;00m response\n",
      "File \u001b[1;32mc:\\Python\\Python310\\lib\\site-packages\\selenium\\webdriver\\remote\\errorhandler.py:249\u001b[0m, in \u001b[0;36mErrorHandler.check_response\u001b[1;34m(self, response)\u001b[0m\n\u001b[0;32m    247\u001b[0m         alert_text \u001b[39m=\u001b[39m value[\u001b[39m\"\u001b[39m\u001b[39malert\u001b[39m\u001b[39m\"\u001b[39m]\u001b[39m.\u001b[39mget(\u001b[39m\"\u001b[39m\u001b[39mtext\u001b[39m\u001b[39m\"\u001b[39m)\n\u001b[0;32m    248\u001b[0m     \u001b[39mraise\u001b[39;00m exception_class(message, screen, stacktrace, alert_text)  \u001b[39m# type: ignore[call-arg]  # mypy is not smart enough here\u001b[39;00m\n\u001b[1;32m--> 249\u001b[0m \u001b[39mraise\u001b[39;00m exception_class(message, screen, stacktrace)\n",
      "\u001b[1;31mNoSuchWindowException\u001b[0m: Message: no such window: target window already closed\nfrom unknown error: web view not found\n  (Session info: chrome=112.0.5615.138)\nStacktrace:\nBacktrace:\n\tGetHandleVerifier [0x00B9DCE3+50899]\n\t(No symbol) [0x00B2E111]\n\t(No symbol) [0x00A35588]\n\t(No symbol) [0x00A1D333]\n\t(No symbol) [0x00A7F4DB]\n\t(No symbol) [0x00A8DB33]\n\t(No symbol) [0x00A7B6F6]\n\t(No symbol) [0x00A57708]\n\t(No symbol) [0x00A5886D]\n\tGetHandleVerifier [0x00E03EAE+2566302]\n\tGetHandleVerifier [0x00E392B1+2784417]\n\tGetHandleVerifier [0x00E3327C+2759788]\n\tGetHandleVerifier [0x00C35740+672048]\n\t(No symbol) [0x00B38872]\n\t(No symbol) [0x00B341C8]\n\t(No symbol) [0x00B342AB]\n\t(No symbol) [0x00B271B7]\n\tBaseThreadInitThunk [0x761B6B89+25]\n\tRtlGetFullPathName_UEx [0x77738F9F+1215]\n\tRtlGetFullPathName_UEx [0x77738F6D+1165]\n"
     ]
    }
   ],
   "source": [
    "from selenium import webdriver\n",
    "from selenium.webdriver.common.by import By\n",
    "\n",
    "list=[]\n",
    "for genre_p in ge:\n",
    "    driver = webdriver.Chrome()\n",
    "    driver.get(url)\n",
    "    driver.maximize_window()\n",
    "    driver.implicitly_wait(20)\n",
    "    action = driver.find_element(By.XPATH, '//img[@title=\"'+genre_p+'\"]')\n",
    "    action.click()\n",
    "    soup = BeautifulSoup(driver.page_source, \"html.parser\")\n",
    "    while True:\n",
    "        movies = soup.find_all('div', class_='lister-item-content')\n",
    "        titles = [i.h3.a.text for i in movies]\n",
    "        years = [i.select('span[class=\"lister-item-year text-muted unbold\"]')[0].text for i in movies]\n",
    "        certificate = [i.select('span.certificate') for i in movies]\n",
    "        certificate = [\"\" if i==[] else i[0].text for i in certificate ]\n",
    "        genre = [''.join(i.select('span.genre')[0].text.split()) for i in movies]\n",
    "        runtime = [i.select('span.runtime') for i in movies]\n",
    "        runtime = [\"\" if i==[] else i[0].text for i in runtime ]\n",
    "        rating = [i.select('div[class=\"inline-block ratings-imdb-rating\"] > strong') for i in movies]\n",
    "        rating = [\"\" if i==[] else i[0].text for i in rating ]\n",
    "        metascore = [i.select('div[class=\"inline-block ratings-metascore\"] > span') for i in movies]\n",
    "        metascore = [\"\" if i==[] else ''.join(i[0].text.split()) for i in metascore ]\n",
    "        description = [i.select('p[class=\"text-muted\"]')[1].text[1:] for i in movies]\n",
    "        votes = [i.select('p[class=\"sort-num_votes-visible\"] > span[name=\"nv\"]') for i in movies]\n",
    "        votes = [\"\" if i==[] else i[0].get('data-value') for i in votes ]\n",
    "        gross = [i.select('p[class=\"sort-num_votes-visible\"] > span[name=\"nv\"]') for i in movies]\n",
    "        gross = [\"\" if len(i)<2 else i[1].get('data-value') for i in gross ]\n",
    "        texts = [\"\" if i==[] else ''.join(i.select('p[class=\"\"]')[0].text.split()) for i in movies]\n",
    "        Director=[]\n",
    "        Stars=[]\n",
    "        for i in texts:\n",
    "            if 'Stars:' in i:\n",
    "                index=i.index('Stars:')\n",
    "                Stars.append(i[index+6:])\n",
    "                Director.append(\"\") if index==0 else Director.append(i[9:index-1])\n",
    "            else:\n",
    "                if 'Director:' in i:\n",
    "                    Stars.append('')\n",
    "                    Director.append(i[9:])\n",
    "                else:\n",
    "                    Stars.append('')\n",
    "                    Director.append('')\n",
    "        try:\n",
    "            for index in range(0, len(movies)):\n",
    "                data = {\"movie_title\": titles[index],\n",
    "                        \"year\": years[index],\n",
    "                        \"certificate\": certificate[index],\n",
    "                        \"runtime\": runtime[index],\n",
    "                        \"genre\": genre[index],\n",
    "                        \"ratings\": rating[index],\n",
    "                        \"metascore\": metascore[index],\n",
    "                        \"description\": description[index],\n",
    "                        \"Director\": Director[index],\n",
    "                        \"stars\": Stars[index],\n",
    "                        \"votes\": votes[index],\n",
    "                        \"gross\": gross[index]\n",
    "                        }\n",
    "                list.append(data)\n",
    "        except:\n",
    "            print(titles[0])\n",
    "        print(len(list))\n",
    "        next_url = soup.select_one('a[class=\"lister-page-next next-page\"]').get('href')\n",
    "        try:\n",
    "            soup = BeautifulSoup(requests.get(\"https://www.imdb.com\"+next_url).text, \"html.parser\")\n",
    "        except:\n",
    "            break\n",
    "driver.quit()"
   ]
  },
  {
   "cell_type": "code",
   "execution_count": 12,
   "metadata": {},
   "outputs": [],
   "source": [
    "df = pd.DataFrame(list)\n",
    "df.to_csv('data_3.csv',index=False)"
   ]
  },
  {
   "cell_type": "code",
   "execution_count": 13,
   "metadata": {},
   "outputs": [
    {
     "name": "stdout",
     "output_type": "stream",
     "text": [
      "<class 'pandas.core.frame.DataFrame'>\n",
      "RangeIndex: 283650 entries, 0 to 283649\n",
      "Data columns (total 12 columns):\n",
      " #   Column       Non-Null Count   Dtype \n",
      "---  ------       --------------   ----- \n",
      " 0   movie_title  283650 non-null  object\n",
      " 1   year         283650 non-null  object\n",
      " 2   certificate  283650 non-null  object\n",
      " 3   runtime      283650 non-null  object\n",
      " 4   genre        283650 non-null  object\n",
      " 5   ratings      283650 non-null  object\n",
      " 6   metascore    283650 non-null  object\n",
      " 7   description  283650 non-null  object\n",
      " 8   Director     283650 non-null  object\n",
      " 9   stars        283650 non-null  object\n",
      " 10  votes        283650 non-null  object\n",
      " 11  gross        283650 non-null  object\n",
      "dtypes: object(12)\n",
      "memory usage: 26.0+ MB\n"
     ]
    }
   ],
   "source": [
    "df.info()"
   ]
  }
 ],
 "metadata": {
  "kernelspec": {
   "display_name": "Python 3",
   "language": "python",
   "name": "python3"
  },
  "language_info": {
   "codemirror_mode": {
    "name": "ipython",
    "version": 3
   },
   "file_extension": ".py",
   "mimetype": "text/x-python",
   "name": "python",
   "nbconvert_exporter": "python",
   "pygments_lexer": "ipython3",
   "version": "3.10.7"
  },
  "orig_nbformat": 4,
  "vscode": {
   "interpreter": {
    "hash": "d3e10ef16274dd72e574b8fa73b58450b957d8421a2901baded3cca26fcf5dda"
   }
  }
 },
 "nbformat": 4,
 "nbformat_minor": 2
}
